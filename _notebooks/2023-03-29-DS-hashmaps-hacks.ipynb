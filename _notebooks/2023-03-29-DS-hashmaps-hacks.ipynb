{
 "cells": [
  {
   "attachments": {},
   "cell_type": "markdown",
   "metadata": {},
   "source": [
    "#  Hashmaps Hacks\n",
    "> Observing hashmaps with python dictionaries\n",
    "- toc: true\n",
    "- image: /images/python.png\n",
    "- categories: []\n",
    "- type: pbl\n",
    "- week: 28"
   ]
  },
  {
   "cell_type": "code",
   "execution_count": 1,
   "metadata": {},
   "outputs": [
    {
     "name": "stdout",
     "output_type": "stream",
     "text": [
      "{'Country': 'North America',\n",
      " 'Current Season': '2022-2023',\n",
      " 'League': 'NBA',\n",
      " 'Teams': {1: 'Boston Celtics',\n",
      "           2: 'Chicago Bulls',\n",
      "           3: 'Toronto Raptors',\n",
      "           4: 'Los Angeles Lakers',\n",
      "           5: 'Golden State Warriors'}}\n"
     ]
    }
   ],
   "source": [
    "import pprint #import library\n",
    "\n",
    "nba_teams = {\n",
    "    \"League\": \"NBA\",\n",
    "    \"Country\": \"North America\",\n",
    "    \"Current Season\": '2022-2023',\n",
    "    \"Teams\": {\n",
    "        1: \"Boston Celtics\",\n",
    "        2: \"Chicago Bulls\",\n",
    "        3: \"Toronto Raptors\",\n",
    "        4: \"Los Angeles Lakers\",\n",
    "        5: \"Golden State Warriors\",\n",
    "        \n",
    "    }\n",
    "}\n",
    "\n",
    "# Printing the dictionary\n",
    "pprint.pprint(nba_teams)"
   ]
  },
  {
   "cell_type": "code",
   "execution_count": 3,
   "metadata": {},
   "outputs": [
    {
     "name": "stdout",
     "output_type": "stream",
     "text": [
      "{1: 'Boston Celtics',\n",
      " 2: 'Chicago Bulls',\n",
      " 3: 'Toronto Raptors',\n",
      " 4: 'Los Angeles Lakers',\n",
      " 5: 'Golden State Warriors'}\n"
     ]
    }
   ],
   "source": [
    "pprint.pprint(nba_teams.get('Teams'))"
   ]
  },
  {
   "cell_type": "code",
   "execution_count": 5,
   "metadata": {},
   "outputs": [
    {
     "name": "stdout",
     "output_type": "stream",
     "text": [
      "'NBA'\n"
     ]
    }
   ],
   "source": [
    "pprint.pprint(nba_teams.get('League'))"
   ]
  },
  {
   "cell_type": "code",
   "execution_count": 8,
   "metadata": {},
   "outputs": [
    {
     "name": "stdout",
     "output_type": "stream",
     "text": [
      "{'Best Players': ['Lebron James',\n",
      "                  'Stephen Curry',\n",
      "                  'Jimmy Butler',\n",
      "                  'Joel Embiid',\n",
      "                  'Ja Morant',\n",
      "                  'Giannis Antetokoumpo',\n",
      "                  'Lebron James'],\n",
      " 'Country': 'North America',\n",
      " 'Current Season': '2022-2023',\n",
      " 'League': 'NBA',\n",
      " 'Teams': {1: 'Boston Celtics',\n",
      "           2: 'Chicago Bulls',\n",
      "           3: 'Toronto Raptors',\n",
      "           4: 'Los Angeles Lakers',\n",
      "           5: 'Golden State Warriors'}}\n"
     ]
    }
   ],
   "source": [
    "nba_teams[\"Best Players\"] = (['Lebron James', 'Stephen Curry', 'Jimmy Butler', 'Joel Embiid', 'Ja Morant', 'Giannis Antetokoumpo', 'Lebron James'])\n",
    "# What can you change to make sure there are no duplicate players?\n",
    "\n",
    "# Take out a duplicate\n",
    "# Make it into a set\n",
    "\n",
    "# Printing the dictionary\n",
    "pprint.pprint(nba_teams)"
   ]
  },
  {
   "cell_type": "code",
   "execution_count": 9,
   "metadata": {},
   "outputs": [
    {
     "name": "stdout",
     "output_type": "stream",
     "text": [
      "Original List:  ['Lebron James', 'Stephen Curry', 'Jimmy Butler', 'Joel Embiid', 'Ja Morant', 'Giannis Antetokoumpo', 'Lebron James']\n",
      "List after removing duplicate elements:  ['Joel Embiid', 'Ja Morant', 'Stephen Curry', 'Jimmy Butler', 'Giannis Antetokoumpo', 'Lebron James']\n"
     ]
    }
   ],
   "source": [
    "# removing duplicate elements from the list\n",
    "print(\"Original List: \", nba_teams['Best Players'])\n",
    "res = [*set(nba_teams['Best Players'])]\n",
    "print(\"List after removing duplicate elements: \", res)"
   ]
  },
  {
   "cell_type": "code",
   "execution_count": 10,
   "metadata": {},
   "outputs": [
    {
     "name": "stdout",
     "output_type": "stream",
     "text": [
      "{'Best Players': ['Lebron James',\n",
      "                  'Stephen Curry',\n",
      "                  'Jimmy Butler',\n",
      "                  'Joel Embiid',\n",
      "                  'Ja Morant',\n",
      "                  'Giannis Antetokoumpo',\n",
      "                  'Lebron James'],\n",
      " 'Country': 'North America',\n",
      " 'Current Season': '2022-2023',\n",
      " 'League': 'NBA',\n",
      " 'Teams': {1: 'Boston Celtics',\n",
      "           2: 'Chicago Bulls',\n",
      "           3: 'Toronto Raptors',\n",
      "           4: 'Los Angeles Lakers',\n",
      "           5: 'Golden State Warriors',\n",
      "           6: 'New York Knicks'}}\n"
     ]
    }
   ],
   "source": [
    "nba_teams[\"Teams\"].update({6:\"New York Knicks\"})\n",
    "\n",
    "# How would add an additional team \n",
    "# use .update\n",
    "#  filter to teams, add new number key they type team name\n",
    "\n",
    "# Printing the dictionary\n",
    "pprint.pprint(nba_teams)"
   ]
  },
  {
   "cell_type": "code",
   "execution_count": 11,
   "metadata": {},
   "outputs": [
    {
     "name": "stdout",
     "output_type": "stream",
     "text": [
      "League: NBA\n",
      "Country: North America\n",
      "Current Season: 2022-2023\n",
      "Teams: {1: 'Boston Celtics', 2: 'Chicago Bulls', 3: 'Toronto Raptors', 4: 'Los Angeles Lakers', 5: 'Golden State Warriors', 6: 'New York Knicks'}\n",
      "Best Players: ['Lebron James', 'Stephen Curry', 'Jimmy Butler', 'Joel Embiid', 'Ja Morant', 'Giannis Antetokoumpo', 'Lebron James']\n"
     ]
    }
   ],
   "source": [
    "for k,v in nba_teams.items(): # iterate using a for loop for key and value\n",
    "    print(str(k) + \": \" + str(v))\n",
    "\n",
    "# Write your own code to print tracks in readable format\n",
    "\n",
    "# use pprint library"
   ]
  },
  {
   "cell_type": "code",
   "execution_count": 35,
   "metadata": {},
   "outputs": [
    {
     "name": "stdout",
     "output_type": "stream",
     "text": [
      "North America\n"
     ]
    }
   ],
   "source": [
    "def search():\n",
    "    search = input(\"What would you like to know about the NHL? \\n For teams type --> Teams\")\n",
    "    if nba_teams.get(search.lower()) == None:\n",
    "        print(\"North America\")\n",
    "    else:\n",
    "        pprint.pprint(nba_teams.get(search.lower()))\n",
    "\n",
    "search()"
   ]
  },
  {
   "attachments": {},
   "cell_type": "markdown",
   "metadata": {},
   "source": [
    "## Hacks\n",
    "\n",
    "- Answer *ALL* questions in the code segments\n",
    "- Create a diagram or comparison illustration (Canva).\n",
    "    - What are the pro and cons of using this data structure? \n",
    "    - Dictionary vs List    \n",
    "- Expand upon the code given to you, possible improvements in comments\n",
    "- Build your own album showing features of a python dictionary\n",
    "\n",
    "- For Mr. Yeung's class: Justify your favorite Taylor Swift song, answer may effect seed."
   ]
  }
 ],
 "metadata": {
  "kernelspec": {
   "display_name": "base",
   "language": "python",
   "name": "python3"
  },
  "language_info": {
   "codemirror_mode": {
    "name": "ipython",
    "version": 3
   },
   "file_extension": ".py",
   "mimetype": "text/x-python",
   "name": "python",
   "nbconvert_exporter": "python",
   "pygments_lexer": "ipython3",
   "version": "3.9.12"
  },
  "orig_nbformat": 4,
  "vscode": {
   "interpreter": {
    "hash": "5764dbad4b00016f04518406a44c7dd30456cf9a6c51aaefb7325959b77738be"
   }
  }
 },
 "nbformat": 4,
 "nbformat_minor": 2
}

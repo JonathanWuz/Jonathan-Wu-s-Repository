{
 "cells": [
  {
   "attachments": {},
   "cell_type": "markdown",
   "metadata": {},
   "source": [
    "- toc: false\n",
    "- branch: master\n",
    "- badges: true\n",
    "- comments: true\n",
    "- permalink: /jupyter/libraries\n",
    "- categories: [jupyter,markdown]"
   ]
  },
  {
   "attachments": {},
   "cell_type": "markdown",
   "metadata": {},
   "source": [
    "# Links to Lessons\n",
    "\n",
    "|Unit|Link|\n",
    "|--------------|--------------|\n",
    "|3.1-3.2 Variables and Assignment|https://dillonlee06.github.io/ZestyYeungsReborn/jupyter/week%2013/2022/11/27/Variable-Assignment.html|\n",
    "|3.3-3.4 Mathematical Expressions and Strings|https://manigggg18.github.io/manimani/jupyter/lesson2|\n",
    "|3.5-3.7 Boolean Expression and Conditionals|https://jasoxddd.github.io/booleanConditionals/2022/12/14/boolean.html|\n",
    "|3.8-3.10 Boolean Iteration and Lists|https://teamorborb.github.io/TeamOrbOrb/lesson%20plans/2022/11/28/Unit_3.8_3.10.html|\n",
    "|3.9-3.11 Developing Algorithms and Binary Search|https://gwang1224.github.io/repository_1/trimester%202%20student%20teaching/2022/12/02/unit3-9-11.html|\n",
    "|3.12-3.13 Calling and Developing Procedures|https://docs.google.com/presentation/d/1stQzqXT_n2BdQsnACnW3t4ZYaIePEVOL6Rs6aomxDKI/edit|\n",
    "|3.14-3.15 Libraries and Random Values|https://saavangade.github.io/Saavan/ap%20csp/unit%203/section%2014/section%2015/lesson/2022/12/11/Lesson-Unit-3-Section-14-15.html|\n",
    "|3.16 Simulations|https://t-dev-ccm.github.io/Fastpage-setup/lesson/2022/12/12/Simulations.html|\n",
    "|3.17-3.18 Algorithm Efficiency and Undecidable Problems|https://mmaxwu.github.io/Tri2-GroupFastpages/lesson|"
   ]
  }
 ],
 "metadata": {
  "kernelspec": {
   "display_name": "base",
   "language": "python",
   "name": "python3"
  },
  "language_info": {
   "name": "python",
   "version": "3.9.12 (main, Apr  5 2022, 06:56:58) \n[GCC 7.5.0]"
  },
  "orig_nbformat": 4,
  "vscode": {
   "interpreter": {
    "hash": "5764dbad4b00016f04518406a44c7dd30456cf9a6c51aaefb7325959b77738be"
   }
  }
 },
 "nbformat": 4,
 "nbformat_minor": 2
}

{
 "cells": [
  {
   "attachments": {},
   "cell_type": "markdown",
   "metadata": {},
   "source": [
    "# SASS"
   ]
  },
  {
   "attachments": {},
   "cell_type": "markdown",
   "metadata": {},
   "source": [
    "# Why SASS?\n",
    "\n",
    "SASS is an improvement on CSS in that there are methods of abstraction. It is a coding language that is integrated into CSS, which means that programming, which is what your web browser can read.\n",
    "\n",
    "# SASS vs SCSS\n",
    "As you learn about Sass, you might notice something called Scss. They are basically the same thing except that Scss uses curly braces and semicolons to distinguish between lines. Sass uses indentation and newlines instead.\n",
    "\n",
    "We will be teaching the Scss syntax because it is more commonly used."
   ]
  },
  {
   "attachments": {},
   "cell_type": "markdown",
   "metadata": {},
   "source": [
    "# Getting started\n",
    "\n",
    "A easy way to write SASS and have it preprocessed into CSS is by using a Jekyll powered website, such as GitHub pages or Fastpages.\n",
    "\n",
    "The first step is to clone a GitHub pages repo, such as this [one](https://github.com/lwu1822/sassy_squad).\n",
    "\n",
    "Within the repository, head over to `assets/css/`, and open `style.scss`.\n",
    "\n",
    "This is where you can create your SASS code.\n",
    "\n",
    "To see your CSS-translated SASS code, head over to `_site/assets/css/style.css`\n",
    "\n",
    "Note: You will need to run bundle exec jekyll serve before the _site directory appears.\n",
    "\n",
    "The first few hundred lines are used to style Github's theme. Make sure to scroll to the very bottom to see the SASS code that you wrote, which is in the form of CSS."
   ]
  },
  {
   "attachments": {},
   "cell_type": "markdown",
   "metadata": {},
   "source": [
    "# Nesting\n",
    "\n",
    "While writing CSS, you may notice that many selectors share the same element.\n",
    "\n",
    "For example, let's say you have a div element that controls the font. Inside the div element, you have two other divs that control the font size.\n",
    "\n",
    "SASS provides a feature called nesting in which you can write styling code in a way that looks like an HTML hierarchy."
   ]
  },
  {
   "attachments": {},
   "cell_type": "markdown",
   "metadata": {},
   "source": [
    "# Mini-hack\n",
    "\n",
    "Write out the SASS equivalent for the following CSS code:\n",
    "\n",
    "```\n",
    ".a .b {\n",
    "    color: green;\n",
    "}\n",
    "\n",
    ".a .c {\n",
    "    color: blue;\n",
    "}\n",
    "```\n",
    "\n",
    "SASS Equivalent:\n",
    "\n",
    "```\n",
    ".a {\n",
    "    .b{\n",
    "        color: green;\n",
    "    }\n",
    "    .c{\n",
    "        color: blue;\n",
    "    }\n",
    "}"
   ]
  },
  {
   "attachments": {},
   "cell_type": "markdown",
   "metadata": {},
   "source": [
    "# Extend/Inheritance\n",
    "\n",
    "What are some similarities that the buttons share? What are the differences?\n",
    "\n",
    "What if you wanted to reuse a portion of your CSS code in multiple selectors? In CSS, you would need to copy and paste the code each time, while in SASS, you can use @extend to inherit the code.\n",
    "\n",
    "If we were to write it out in CSS, we would need to specify these properties for each button selector.\n",
    "\n",
    "With SASS, we can create a placeholder class that stores the code we want to reuse. A placeholder class looks like this:\n",
    "\n",
    "For example, to specify the width, height, font color, and spacing for each button, we can create a placeholder class called %buttonLayout and write our styling in there.\n",
    "\n",
    "%buttonLayout is like a template for the specific buttons that we want to make.\n",
    "\n",
    "\n",
    "A selector needs to be created for each button. Code from the placeholder class can be called with @extend %class-name"
   ]
  },
  {
   "attachments": {},
   "cell_type": "markdown",
   "metadata": {},
   "source": [
    "# Mini-hack\n",
    "\n",
    "Write out a mixin in SASS that takes in a color and a font size as the parameter. Within the mixin, set the background color and font color to the color parameter, and set the font size to the font size parameter. Then create a selector that calls the mixin, and pass in a color and font size of your choice as the arguments.\n",
    "\n",
    "SASS Code:\n",
    "```\n",
    "@mixin testCode($testColor, $fontSize) {\n",
    "    background: $testColor;\n",
    "    color: $testColor;\n",
    "    font-size: $fontSize;\n",
    "}\n",
    ".testCodeSelector {\n",
    "    @include testCode(#00ffc1, 10px);\n",
    "}\n",
    "```"
   ]
  },
  {
   "attachments": {},
   "cell_type": "markdown",
   "metadata": {},
   "source": [
    "# Function\n",
    "\n",
    "- To change between light and dark mode, we can create an invert function in SASS.\n",
    "- A function can be created that takes in an rgb value and returns the inverted rgb color.\n",
    "\n",
    "    - To invert colors, subtract each rgb value from 255.\n",
    "- Functions are called by specifying the function name with parenthesis. Inside the parenthesis, you can specify the arguments."
   ]
  },
  {
   "attachments": {},
   "cell_type": "markdown",
   "metadata": {},
   "source": [
    "# Import\n",
    "\n",
    "After configuring a lot of styling, your SASS file might get cluttered.\n",
    "\n",
    "- There is a way to split your code into multiple files and import them into one file.\n",
    "\n",
    "For instance, to put the styling for function.html in another SASS file, first create a directory called _sass.\n",
    "\n",
    "Within the directory, create another SASS file. In this case, the file is called functionStyle.scss\n",
    "\n",
    "Write your SASS code in that file. Once you are finished, switch back to style.scss and import the file with @import \"file-name\"\n",
    "\n",
    "For instance, to import the functionStyle.scss file into style.scss , the import statement would be @import \"functionStyle\"."
   ]
  },
  {
   "attachments": {},
   "cell_type": "markdown",
   "metadata": {},
   "source": [
    "# SASS Hacks\n",
    "\n",
    "1. Take notes and complete the mini-hacks. (0.9)\n",
    "\n",
    "2. Complete the [quiz questions](https://lwu1822.github.io/sassy_squad/quizQuestions) and provide your answers in this notebook. (0.9)\n",
    "\n",
    "3. Use SASS to create something that uses either extend or mixin. (0.9)\n",
    "\n",
    "4. Extra credit: Research other SASS features and blog about what you learned or add to your SASS project with any extra features not covered in this lesson. More points will be given if both are done."
   ]
  },
  {
   "attachments": {},
   "cell_type": "markdown",
   "metadata": {},
   "source": [
    "## SASS Quiz\n",
    "\n",
    "1. B\n",
    "2. A\n",
    "3. C\n",
    "4. A\n",
    "5. D\n",
    "6. B\n",
    "7. B\n",
    "\n"
   ]
  },
  {
   "attachments": {},
   "cell_type": "markdown",
   "metadata": {},
   "source": [
    "## Researched SASS features\n",
    "\n",
    "Variables:\n",
    "\n",
    "- Enables users to define values\n",
    "- Can be used to define colors, font sizes, margins, padding values, and more.\n",
    "\n",
    "\n",
    "Control Directives:\n",
    "\n",
    "- Some examples are @if, @for, and @each\n",
    "- These enable us to write conditional statements and loops, and also allow iteration\n",
    "\n",
    "\n",
    "Partials:\n",
    "\n",
    "- Partial SASS files that contain small code segments\n",
    "- Can be included in other files\n",
    "- Is an easy way to organize code\n",
    "- Name with an underscore like _partial.scss\n",
    "\n",
    "\n",
    "Modules:\n",
    "\n",
    "- Can be used to split SASS code in a single file\n",
    "@use\n",
    "- Loads another SASS file as a module\n",
    "- Its variables, mixins, and functions can be accessed"
   ]
  },
  {
   "attachments": {},
   "cell_type": "markdown",
   "metadata": {},
   "source": [
    "## SASS Program\n",
    "\n",
    "(link)[https://jonathanwuz.github.io/LeuckACheuck/]\n",
    "- Sass code used on submit button\n",
    "\n",
    "SASS Code:\n",
    "```\n",
    "<style>\n",
    "@mixin button-styles {\n",
    "\tfont-size: 1.2em;\n",
    "\tpadding: 30px 50px;\n",
    "\tcolor: #fff;\n",
    "\ttext-shadow: 1px 1px 1px rgba(0, 0, 0, 0.4);\n",
    "\tborder: none;\n",
    "\tborder-radius: 30px;\n",
    "\tcursor: pointer;\n",
    "\tbackground: linear-gradient(to right, #00c6ff, #0072ff);\n",
    "\ttransition: all 0.2s ease-in-out;\n",
    "}\n",
    "\t\n",
    ".button {\n",
    "\t@include button-styles;\n",
    "\twidth: 25%;\n",
    "\theight: 150px;\n",
    "\tmargin: auto;\n",
    "\tborder-radius: 30px;\n",
    "\tbackground: linear-gradient(to right, #fc4a1a, #f7b733);\n",
    "}\n",
    "\n",
    "</style>\n",
    "```"
   ]
  }
 ],
 "metadata": {
  "kernelspec": {
   "display_name": "JavaScript (Node.js)",
   "language": "javascript",
   "name": "javascript"
  },
  "language_info": {
   "file_extension": ".js",
   "mimetype": "application/javascript",
   "name": "javascript",
   "version": "6.11.2"
  },
  "orig_nbformat": 4
 },
 "nbformat": 4,
 "nbformat_minor": 2
}

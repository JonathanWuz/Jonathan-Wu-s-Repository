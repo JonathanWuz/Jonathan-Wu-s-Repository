{
 "cells": [
  {
   "cell_type": "code",
   "execution_count": 5,
   "metadata": {},
   "outputs": [
    {
     "name": "stdout",
     "output_type": "stream",
     "text": [
      "what did you get out of 40?\n",
      "Percent score\n",
      "95.0\n"
     ]
    }
   ],
   "source": [
    "print(\"what did you get out of 40?\")\n",
    "currentPoints = int(input())\n",
    "currentGrade = currentPoints / 40\n",
    "currentPercent = currentGrade * 100\n",
    "print(\"Percent score:\")\n",
    "print(currentPercent)"
   ]
  },
  {
   "cell_type": "code",
   "execution_count": 7,
   "metadata": {},
   "outputs": [
    {
     "name": "stdout",
     "output_type": "stream",
     "text": [
      "what did you get out of 50?\n",
      "Percent score:\n",
      "98.0\n"
     ]
    }
   ],
   "source": [
    "print(\"what did you get out of 50?\")\n",
    "currentPoints = int(input())\n",
    "currentGrade = currentPoints / 50\n",
    "currentPercent = currentGrade * 100\n",
    "print(\"Percent score:\")\n",
    "print(currentPercent)"
   ]
  }
 ],
 "metadata": {
  "kernelspec": {
   "display_name": "Python 3.8.10 64-bit",
   "language": "python",
   "name": "python3"
  },
  "language_info": {
   "codemirror_mode": {
    "name": "ipython",
    "version": 3
   },
   "file_extension": ".py",
   "mimetype": "text/x-python",
   "name": "python",
   "nbconvert_exporter": "python",
   "pygments_lexer": "ipython3",
   "version": "3.8.10 (default, Jun 22 2022, 20:18:18) \n[GCC 9.4.0]"
  },
  "orig_nbformat": 4,
  "vscode": {
   "interpreter": {
    "hash": "916dbcbb3f70747c44a77c7bcd40155683ae19c65e1c03b4aa3499c5328201f1"
   }
  }
 },
 "nbformat": 4,
 "nbformat_minor": 2
}

{
 "cells": [
  {
   "attachments": {},
   "cell_type": "markdown",
   "metadata": {},
   "source": [
    "# \"Grades\"\n",
    "> \"Grades\"\n",
    "\n",
    "- toc: true\n",
    "- branch: master\n",
    "- badges: true\n",
    "- comments: true\n",
    "- permalink: /jupyter/libraries\n",
    "- categories: [jupyter,markdown]"
   ]
  },
  {
   "attachments": {},
   "cell_type": "markdown",
   "metadata": {},
   "source": [
    "|Unit|Grade|\n",
    "|--------------|--------------|\n",
    "|3.1-3.2|0.95/1|\n",
    "|3.3-3.4|1/1|\n",
    "|3.5-3.7|0.9/1|\n",
    "|3.8-3.10|0.9/1|\n",
    "|3.9-3.11|0.9/1|\n",
    "|3.12-3.13|0.75/1|\n",
    "|3.14-3.15|0.5/1|"
   ]
  }
 ],
 "metadata": {
  "kernelspec": {
   "display_name": "base",
   "language": "python",
   "name": "python3"
  },
  "language_info": {
   "name": "python",
   "version": "3.9.12 (main, Apr  5 2022, 06:56:58) \n[GCC 7.5.0]"
  },
  "orig_nbformat": 4,
  "vscode": {
   "interpreter": {
    "hash": "5764dbad4b00016f04518406a44c7dd30456cf9a6c51aaefb7325959b77738be"
   }
  }
 },
 "nbformat": 4,
 "nbformat_minor": 2
}

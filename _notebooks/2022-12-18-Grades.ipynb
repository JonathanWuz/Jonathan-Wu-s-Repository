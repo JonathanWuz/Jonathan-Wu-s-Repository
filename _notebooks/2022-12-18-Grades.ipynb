{
 "cells": [
  {
   "attachments": {},
   "cell_type": "markdown",
   "metadata": {},
   "source": [
    "# Grades\n",
    "\n",
    "|Unit|Grade|\n",
    "|--------------|--------------|\n",
    "|3.1-3.2|0.95/1|\n",
    "|3.3-3.4|1/1|\n",
    "|3.5-3.7|0.9/1|\n",
    "|3.8-3.10|0.9/1|\n",
    "|3.9-3.11|0.9/1|\n",
    "|3.12-3.13|0.75/1|\n",
    "|3.14-3.15|0.5/1|"
   ]
  }
 ],
 "metadata": {
  "language_info": {
   "name": "python"
  },
  "orig_nbformat": 4
 },
 "nbformat": 4,
 "nbformat_minor": 2
}

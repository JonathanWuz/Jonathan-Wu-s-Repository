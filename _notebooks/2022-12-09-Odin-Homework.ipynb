{
 "cells": [
  {
   "attachments": {},
   "cell_type": "markdown",
   "metadata": {},
   "source": [
    "# Lessons\n",
    "> Notes\n",
    "\n",
    "- title: Links to Lessons\n",
    "- toc: true\n",
    "- badges: false\n",
    "- categories: [lessons]"
   ]
  },
  {
   "attachments": {},
   "cell_type": "markdown",
   "metadata": {},
   "source": [
    "|Unit|Link|\n",
    "|--------------|--------------|\n",
    "|3.1-3.2 Variables and Assignment|https://dillonlee06.github.io/ZestyYeungsReborn/jupyter/week%2013/2022/11/27/Variable-Assignment.html|\n",
    "|3.3-3.4 Mathematical Expressions and Strings|https://manigggg18.github.io/manimani/jupyter/lesson2|\n",
    "|3.5-3.7 Boolean Expression and Conditionals|https://jasoxddd.github.io/booleanConditionals/2022/12/14/boolean.html|\n",
    "|3.8-3.10 Boolean Iteration and Lists|https://teamorborb.github.io/TeamOrbOrb/lesson%20plans/2022/11/28/Unit_3.8_3.10.html|\n",
    "|3.9-3.11 Developing Algorithms and Binary Search|https://gwang1224.github.io/repository_1/trimester%202%20student%20teaching/2022/12/02/unit3-9-11.html|\n",
    "|3.12-3.13 Calling and Developing Procedures|https://docs.google.com/presentation/d/1stQzqXT_n2BdQsnACnW3t4ZYaIePEVOL6Rs6aomxDKI/edit|\n",
    "|3.14-3.15 Libraries and Random Values|https://saavangade.github.io/Saavan/ap%20csp/unit%203/section%2014/section%2015/lesson/2022/12/11/Lesson-Unit-3-Section-14-15.html|\n",
    "|3.16 Simulations|https://t-dev-ccm.github.io/Fastpage-setup/lesson/2022/12/12/Simulations.html|\n",
    "|3.17-3.18 Algorithm Efficiency and Undecidable Problems|https://mmaxwu.github.io/Tri2-GroupFastpages/lesson|"
   ]
  }
 ],
 "metadata": {
  "kernelspec": {
   "display_name": "Python 3.8.10 64-bit",
   "language": "python",
   "name": "python3"
  },
  "language_info": {
   "codemirror_mode": {
    "name": "ipython",
    "version": 3
   },
   "file_extension": ".py",
   "mimetype": "text/x-python",
   "name": "python",
   "nbconvert_exporter": "python",
   "pygments_lexer": "ipython3",
   "version": "3.8.10 (default, Jun 22 2022, 20:18:18) \n[GCC 9.4.0]"
  },
  "orig_nbformat": 4,
  "vscode": {
   "interpreter": {
    "hash": "916dbcbb3f70747c44a77c7bcd40155683ae19c65e1c03b4aa3499c5328201f1"
   }
  }
 },
 "nbformat": 4,
 "nbformat_minor": 2
}

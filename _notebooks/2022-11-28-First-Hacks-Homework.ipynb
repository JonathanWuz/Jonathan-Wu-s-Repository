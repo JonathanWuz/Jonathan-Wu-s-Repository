{
 "cells": [
  {
   "cell_type": "code",
   "execution_count": 3,
   "metadata": {},
   "outputs": [
    {
     "name": "stdout",
     "output_type": "stream",
     "text": [
      "  0) each\n",
      "  1) for\n",
      "  2) loop\n",
      "  3) while\n",
      "The answer is 'for', not 'each'\n",
      "  0) To combine several strings into one\n",
      "  1) To compress several files into one archive\n",
      "  2) To get information from the user\n",
      "  3) To iterate over two or more sequences at the same time\n"
     ]
    }
   ],
   "source": [
    "# Homework 1\n",
    "\n",
    "QUESTIONS = {\n",
    "    \"Which keyword do you use to loop over a given list of elements\": [\n",
    "        \"for\", \"while\", \"each\", \"loop\"\n",
    "    ],\n",
    "    \"What's the purpose of the built-in zip() function\": [\n",
    "        \"To iterate over two or more sequences at the same time\",\n",
    "        \"To combine several strings into one\",\n",
    "        \"To compress several files into one archive\",\n",
    "        \"To get information from the user\",\n",
    "    ],\n",
    "    \"What's the name of Python's sorting algorithm\": [\n",
    "        \"Timsort\", \"Quicksort\", \"Merge sort\", \"Bubble sort\"\n",
    "    ],\n",
    "}\n",
    "\n",
    "for question, alternatives in QUESTIONS.items():\n",
    "    correct_answer = alternatives[0]\n",
    "    sorted_alternatives = sorted(alternatives)\n",
    "    for label, alternative in enumerate(sorted_alternatives):\n",
    "        print(f\"  {label}) {alternative}\")\n",
    "\n",
    "    answer_label = int(input(f\"{question}? \"))\n",
    "    answer = sorted_alternatives[answer_label]\n",
    "    if answer == correct_answer:\n",
    "        print(\"Correct!\")\n",
    "    else:\n",
    "        print(f\"The answer is {correct_answer!r}, not {answer!r}\")"
   ]
  }
 ],
 "metadata": {
  "kernelspec": {
   "display_name": "Python 3.8.10 64-bit",
   "language": "python",
   "name": "python3"
  },
  "language_info": {
   "codemirror_mode": {
    "name": "ipython",
    "version": 3
   },
   "file_extension": ".py",
   "mimetype": "text/x-python",
   "name": "python",
   "nbconvert_exporter": "python",
   "pygments_lexer": "ipython3",
   "version": "3.8.10"
  },
  "orig_nbformat": 4,
  "vscode": {
   "interpreter": {
    "hash": "916dbcbb3f70747c44a77c7bcd40155683ae19c65e1c03b4aa3499c5328201f1"
   }
  }
 },
 "nbformat": 4,
 "nbformat_minor": 2
}

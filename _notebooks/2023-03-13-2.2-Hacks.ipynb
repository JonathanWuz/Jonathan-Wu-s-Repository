{
 "cells": [
  {
   "attachments": {},
   "cell_type": "markdown",
   "metadata": {},
   "source": [
    "# Hacks\n",
    "Early Seed award\n",
    "\n",
    "- Add this Blog to you own Blogging site.\n",
    "- In the Blog add a Happy Face image.\n",
    "- Have Happy Face Image open when Tech Talk starts, running on localhost. Don't tell anyone. Show to Teacher.\n",
    "AP Prep\n",
    "\n",
    "In the Blog add notes and observations on each code cell that request an answer.\n",
    "In blog add College Board practice problems for 2.3\n",
    "Choose 2 images, one that will more likely result in lossy data compression and one that is more likely to result in lossless data compression. Explain.\n",
    "Project Addition\n",
    "\n",
    "If your project has images in it, try to implement an image change that has a purpose. (Ex. An item that has been sold out could become gray scale)\n",
    "Pick a programming paradigm and solve some of the following ...\n",
    "\n",
    "- Numpy, manipulating pixels. As opposed to Grey Scale treatment, pick a couple of other types like red scale, green scale, or blue scale. We want you to be manipulating pixels in the image.\n",
    "- Binary and Hexadecimal reports. Convert and produce pixels in binary and Hexadecimal and display.\n",
    "- Compression and Sizing of images. Look for insights into compression Lossy and Lossless. Look at PIL library and see if there are other things that can be done.\n",
    "- There are many effects you can do as well with PIL. Blur the image or write Meta Data on screen, aka Title, Author and Image size."
   ]
  }
 ],
 "metadata": {
  "kernelspec": {
   "display_name": "base",
   "language": "python",
   "name": "python3"
  },
  "language_info": {
   "codemirror_mode": {
    "name": "ipython",
    "version": 3
   },
   "file_extension": ".py",
   "mimetype": "text/x-python",
   "name": "python",
   "nbconvert_exporter": "python",
   "pygments_lexer": "ipython3",
   "version": "3.9.12"
  },
  "orig_nbformat": 4
 },
 "nbformat": 4,
 "nbformat_minor": 2
}

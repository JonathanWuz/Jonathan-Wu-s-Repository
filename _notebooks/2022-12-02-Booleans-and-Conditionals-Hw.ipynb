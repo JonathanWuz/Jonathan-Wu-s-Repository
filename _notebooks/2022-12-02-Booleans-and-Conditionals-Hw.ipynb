{
 "cells": [
  {
   "cell_type": "code",
   "execution_count": 9,
   "metadata": {},
   "outputs": [
    {
     "name": "stdout",
     "output_type": "stream",
     "text": [
      "Cost: 30\n",
      "Expired: no\n",
      "this is a regular product\n"
     ]
    }
   ],
   "source": [
    "# Hacks Assignment\n",
    "\n",
    "ProductCost = input(\"What is the cost of the product?\")\n",
    "print(\"Cost: \" + ProductCost)\n",
    "ProductExpiration = input(\"Is this product expired? yes/no\")\n",
    "print(\"Expired: \" + ProductExpiration)\n",
    "if (ProductExpiration == \"yes\"): \n",
    "    print(\"this product is no good\"); \n",
    "else: \n",
    "    if (ProductCost > \"50\" and ProductExpiration == \"no\"): \n",
    "        print(\"this product is too expensive\")\n",
    "    else:\n",
    "        if(\"50\" >= ProductCost >= \"20\" and ProductExpiration == \"no\"):\n",
    "            print(\"this is a regular product\")\n",
    "        else:\n",
    "            if (\"20\" > ProductCost >= \"0\" and ProductExpiration == \"no\"):\n",
    "                print(\"this is a cheap product\")"
   ]
  },
  {
   "cell_type": "code",
   "execution_count": 3,
   "metadata": {},
   "outputs": [
    {
     "name": "stdout",
     "output_type": "stream",
     "text": [
      "77.0\n"
     ]
    }
   ],
   "source": [
    "grade1 = 90\n",
    "grade2 = 65\n",
    "grade3 = 60\n",
    "grade4 = 75\n",
    "grade5 = 95\n",
    "print((grade1 + grade2 + grade3 + grade4 + grade5)/5)"
   ]
  },
  {
   "cell_type": "code",
   "execution_count": 8,
   "metadata": {},
   "outputs": [
    {
     "name": "stdout",
     "output_type": "stream",
     "text": [
      "1 > 2 or 5 < 12: True\n",
      "24 > 8: False\n",
      "10 > 20: False\n"
     ]
    }
   ],
   "source": [
    "print(\"1 > 2 or 5 < 12:\", 1 > 2 or 5 < 12)\n",
    "# Output TRUE  using OR ^\n",
    "\n",
    "\n",
    "# Output FALSE using NOT\n",
    "print(\"24 > 8:\", not 24 > 8)\n",
    "\n",
    "# Output FALSE using AND\n",
    "print(\"10 > 20:\", 10 > 20 and false)"
   ]
  },
  {
   "cell_type": "code",
   "execution_count": 14,
   "metadata": {},
   "outputs": [
    {
     "name": "stdout",
     "output_type": "stream",
     "text": [
      "200\n"
     ]
    }
   ],
   "source": [
    "num1 = int(input())\n",
    "num2 = int(input())\n",
    "sum = num1 + num2\n",
    "if sum == 200:\n",
    "    print(\"200\")\n",
    "else:\n",
    "    print(sum)"
   ]
  },
  {
   "cell_type": "code",
   "execution_count": 17,
   "metadata": {},
   "outputs": [
    {
     "name": "stdout",
     "output_type": "stream",
     "text": [
      "person makes 150k\n"
     ]
    }
   ],
   "source": [
    "person = int(input())\n",
    "if person < 8:\n",
    "    print(\"person makes 50k\")\n",
    "else:\n",
    "    if 10 > person >= 8:\n",
    "        print(\"person makes 90k\")\n",
    "    else:\n",
    "        print(\"person makes 150k\")\n"
   ]
  }
 ],
 "metadata": {
  "kernelspec": {
   "display_name": "Python 3.8.10 64-bit",
   "language": "python",
   "name": "python3"
  },
  "language_info": {
   "codemirror_mode": {
    "name": "ipython",
    "version": 3
   },
   "file_extension": ".py",
   "mimetype": "text/x-python",
   "name": "python",
   "nbconvert_exporter": "python",
   "pygments_lexer": "ipython3",
   "version": "3.8.10"
  },
  "orig_nbformat": 4,
  "vscode": {
   "interpreter": {
    "hash": "916dbcbb3f70747c44a77c7bcd40155683ae19c65e1c03b4aa3499c5328201f1"
   }
  }
 },
 "nbformat": 4,
 "nbformat_minor": 2
}

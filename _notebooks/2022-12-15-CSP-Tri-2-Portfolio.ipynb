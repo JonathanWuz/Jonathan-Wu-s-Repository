{
 "cells": [
  {
   "attachments": {},
   "cell_type": "markdown",
   "metadata": {},
   "source": [
    "# \"AP CSP Tri 2 Portfolio\"\n",
    "> \"AP Exam Content and Vocab\"\n",
    " \n",
    "- toc: true\n",
    "- branch: master\n",
    "- badges: true\n",
    "- comments: true\n",
    "- permalink: /jupyter/libraries\n",
    "- categories: [jupyter,markdown]"
   ]
  },
  {
   "attachments": {},
   "cell_type": "markdown",
   "metadata": {},
   "source": [
    "## 3.1-3.2 Variables, Assignments, and Data Abstractions\n",
    "\n",
    "*Variable*: an abstraction inside a program that can hold a value\n",
    "- Types of Variables\n",
    "- Integer: A number\n",
    "- Text/String: A word\n",
    "- Boolean: Data that determines if something is true or false\n"
   ]
  },
  {
   "cell_type": "code",
   "execution_count": 1,
   "metadata": {},
   "outputs": [
    {
     "name": "stdout",
     "output_type": "stream",
     "text": [
      "table1 <class 'str'>\n",
      "4 <class 'int'>\n",
      "False <class 'bool'>\n"
     ]
    }
   ],
   "source": [
    "# Variables\n",
    "# String\n",
    "name = \"table1\"\n",
    "print(name, type(name))\n",
    "\n",
    "# Integer\n",
    "number = 4\n",
    "print(number, type(number))\n",
    "\n",
    "# Booleans \n",
    "isAbsent = False\n",
    "print(isAbsent, type(isAbsent))"
   ]
  },
  {
   "attachments": {},
   "cell_type": "markdown",
   "metadata": {},
   "source": [
    "Data Abstraction is a method used in coding to represent data in useful form, by taking away aspects of data that aren't being used in the situation\n",
    "- List = ordered sequence of elements\n",
    "- element = individsual value in a list that is assigned to a unique index\n",
    "- index = a way to reference the elements in a list or string using natural numbers; each element of a string is referenced by an index\n",
    "- string = ordered sequence of characters (Letters, numbers, special characters)"
   ]
  },
  {
   "cell_type": "code",
   "execution_count": 2,
   "metadata": {},
   "outputs": [
    {
     "name": "stdout",
     "output_type": "stream",
     "text": [
      "['black', 'blue', 'orange', 'yellow', 'purple', 'green', 'pink']\n"
     ]
    }
   ],
   "source": [
    "# Example of using Data Abstractions\n",
    "def Reverse(lst):\n",
    "    new_lst = lst[::-1]\n",
    "    return new_lst\n",
    "\n",
    "lst = [\"pink\", \"green\", \"purple\", \"yellow\", \"orange\", \"blue\", \"black\"]\n",
    "print(Reverse(lst))"
   ]
  },
  {
   "attachments": {},
   "cell_type": "markdown",
   "metadata": {},
   "source": [
    "Managing Complexity is improving code readability and efficiency\n",
    "- Lists can be used to manage complexity"
   ]
  },
  {
   "cell_type": "code",
   "execution_count": 3,
   "metadata": {},
   "outputs": [
    {
     "name": "stdout",
     "output_type": "stream",
     "text": [
      "['green', 'red', 'pink', 'purple', 'blue', 'brown']\n"
     ]
    }
   ],
   "source": [
    "colorList = [\"green\", \"red\", \"pink\", \"purple\", \"blue\", \"brown\"]\n",
    "\n",
    "print(str(colorList))"
   ]
  },
  {
   "attachments": {},
   "cell_type": "markdown",
   "metadata": {},
   "source": [
    "## 3.3-3.4 Mathematical Expressions and Strings\n",
    "\n",
    "An algorithm: a set of instructions that can accomplish a specific task\n",
    "1. Sequencing: Algorithms do taks in the order of specification\n",
    "2. Selection: Helps choose two different outcomes based off a decision\n",
    "3. Iteration: If a conditions is true, then the code can repeat"
   ]
  },
  {
   "cell_type": "code",
   "execution_count": 4,
   "metadata": {},
   "outputs": [
    {
     "name": "stdout",
     "output_type": "stream",
     "text": [
      "['black', 'blue', 'orange', 'yellow', 'purple', 'green', 'pink']\n"
     ]
    }
   ],
   "source": [
    "# Example of an Algorithm\n",
    "def Reverse(lst):\n",
    "    new_lst = lst[::-1]\n",
    "    return new_lst\n",
    "\n",
    "lst = [\"pink\", \"green\", \"purple\", \"yellow\", \"orange\", \"blue\", \"black\"]\n",
    "print(Reverse(lst))"
   ]
  },
  {
   "cell_type": "markdown",
   "metadata": {},
   "source": [
    "*Flowcharts*: The use shapes and arrows to represent the steps of an algorithm"
   ]
  },
  {
   "attachments": {},
   "cell_type": "markdown",
   "metadata": {},
   "source": [
    "![reverser](https://github.com/mmaxwu/Tri2-GroupFastpages/blob/master/images/reverser.png?raw=true)"
   ]
  },
  {
   "attachments": {},
   "cell_type": "markdown",
   "metadata": {},
   "source": [
    "### Basic Operations\n",
    "Subtraction:\n",
    "- represented by \"-\"\n",
    "\n",
    "Addition:\n",
    "- represented by \"+\"\n",
    "\n",
    "Multiplication\n",
    "- represented by \"*\"\n",
    "\n",
    "Division\n",
    "- represented by \"/\"\n",
    "\n",
    "Getting the Remainder\n",
    "represented by \"MOD\" (% in python)"
   ]
  },
  {
   "cell_type": "code",
   "execution_count": 6,
   "metadata": {},
   "outputs": [
    {
     "name": "stdout",
     "output_type": "stream",
     "text": [
      "-0.3333333333333328\n"
     ]
    }
   ],
   "source": [
    "# Algorithm that combines all basic operations\n",
    "num1 = 10\n",
    "num2 = num1 -25\n",
    "num3 = 100*num1\n",
    "num4 = num1/num2\n",
    "num5 = 9 % num4\n",
    "print(num5)"
   ]
  },
  {
   "attachments": {},
   "cell_type": "markdown",
   "metadata": {},
   "source": [
    "Order of operations in programming are performed in the same order as operations in mathematics."
   ]
  },
  {
   "attachments": {},
   "cell_type": "markdown",
   "metadata": {},
   "source": [
    "### Strings\n",
    "A string is a collection of characters. Can be numbers, letters, spaces, special symbols, etc.\n",
    "String concatenation is combining two or more strings to make a new strings in order to create a new string\n",
    "A substring is a part of and already existing string."
   ]
  },
  {
   "cell_type": "code",
   "execution_count": 7,
   "metadata": {},
   "outputs": [
    {
     "name": "stdout",
     "output_type": "stream",
     "text": [
      "choclate vote: 225 rasin vote: 4.0\n"
     ]
    }
   ],
   "source": [
    "# Example of Strings\n",
    "cookie = \"choclate\" \n",
    "cookie2 = \"rasin\" \n",
    "len1 = len(cookie) / 2 \n",
    "len1 = str(len1)\n",
    "len2 = len(cookie2) * 45\n",
    "len2 = str(len2) \n",
    "vote1 = cookie + \" vote: \" + len2 \n",
    "vote2 = cookie2 + \" vote: \" + len1 \n",
    "votes = vote1 + \" \" + vote2 \n",
    "print(votes)"
   ]
  },
  {
   "attachments": {},
   "cell_type": "markdown",
   "metadata": {},
   "source": [
    "# Unit 3 Section 5-7\n",
    "\n",
    "A boolean is a data type with two possible values: true or false\\\n",
    "Relational operators could use operators to determine if the average of 5 grades is greater than 80"
   ]
  },
  {
   "cell_type": "code",
   "execution_count": 8,
   "metadata": {},
   "outputs": [
    {
     "name": "stdout",
     "output_type": "stream",
     "text": [
      "The average grade is below 80%\n"
     ]
    }
   ],
   "source": [
    "# Eample of a Boolean in practical use\n",
    "gradeList = [90, 65, 60, 75, 95]\n",
    "\n",
    "averageGrade = sum(gradeList)/len(gradeList)\n",
    "\n",
    "if averageGrade > 80:\n",
    "    print(\"the average grade is\" + averageGrade + \"%\")\n",
    "else:\n",
    "    print(\"The average grade is below 80%\")"
   ]
  },
  {
   "attachments": {},
   "cell_type": "markdown",
   "metadata": {},
   "source": [
    "Logical Operators are similar to relational operators but these operators don't necessarily deal with equivalent/non-equivalent values, but they rather work on operands to produce a singular boolean result\n",
    "- AND: returns TRUE if the operand around it are TRUE\n",
    "- OR: returns TRUE if at least one operand is TRUE\n",
    "- NOT: returns TRUE if the following boolean is FALSE"
   ]
  },
  {
   "cell_type": "code",
   "execution_count": 9,
   "metadata": {},
   "outputs": [
    {
     "name": "stdout",
     "output_type": "stream",
     "text": [
      "1 > 2 or 5 < 12: True\n",
      "24>8: False\n",
      "10>20: False\n"
     ]
    }
   ],
   "source": [
    "# OR function\n",
    "print(\"1 > 2 or 5 < 12:\", 1>2 or 5 < 12)\n",
    "\n",
    "# NOT function\n",
    "print(\"24>8:\", not 24>8)\n",
    "\n",
    "# AND function\n",
    "print(\"10>20:\", 10>20 and 20<10)"
   ]
  },
  {
   "attachments": {},
   "cell_type": "markdown",
   "metadata": {},
   "source": [
    "Selection: uses a condition that evaluates to true or false\n",
    "Algorithm is a finite set of instructions that accomplish a specific task"
   ]
  },
  {
   "cell_type": "code",
   "execution_count": 10,
   "metadata": {},
   "outputs": [
    {
     "name": "stdout",
     "output_type": "stream",
     "text": [
      "x is greater than y\n"
     ]
    }
   ],
   "source": [
    "# Example of Nested Conditional\n",
    "x=20\n",
    "y=10\n",
    "if x>y:\n",
    "    print(\"x is greater than y\")\n",
    "else: \n",
    "    print(\"x is not greater than y\")"
   ]
  },
  {
   "attachments": {},
   "cell_type": "markdown",
   "metadata": {},
   "source": [
    "Nested Conditional statements consist of conditional statements within other conditional statements\n",
    "- utilizes if else statements within if else statements\n",
    "- basics of a nested conditional\n",
    "\n",
    "![Screenshot 2022-12-11 221853](https://user-images.githubusercontent.com/51098969/206974627-af98327c-d95d-4459-be67-cbaa3faaaa98.jpg)"
   ]
  },
  {
   "attachments": {},
   "cell_type": "markdown",
   "metadata": {},
   "source": [
    "# 3.9-3.11 Algorithms and Binary Search\n",
    "\n",
    "### Lists\n",
    "*Lists*: a sequence of variables\n",
    "- we can use lists to store multiple items into one variable\n",
    "- used to store collections of data\n",
    "- changeable, ordered, allow duplicates"
   ]
  },
  {
   "cell_type": "code",
   "execution_count": 11,
   "metadata": {},
   "outputs": [
    {
     "name": "stdout",
     "output_type": "stream",
     "text": [
      "['apple', 'grape', 'strawberry']\n"
     ]
    }
   ],
   "source": [
    "# Example of a List\n",
    "fruits = [\"apple\", \"grape\", \"strawberry\"]\n",
    "print (fruits)"
   ]
  },
  {
   "cell_type": "code",
   "execution_count": 13,
   "metadata": {},
   "outputs": [],
   "source": [
    "#More List examples\n",
    "\n",
    "brands = [\"nike\", \"adidas\", \"underarmour\"]\n",
    "numbers = [1, 2, 3, 4, 5]\n",
    "truefalse = [True, False, True]"
   ]
  },
  {
   "attachments": {},
   "cell_type": "markdown",
   "metadata": {},
   "source": [
    "**Lists are just one of four collection data types in Python**\n",
    "- *Tuple*: collection that is ordered, unchangeable, allows duplicates\n",
    "- *Set*: collection that is unordered, unchangeable, doesn't allow duplicates\n",
    "- *Dictionary*: collection that is ordered, changeable, doesn't allow duplicates\n",
    "\n",
    "**Terms**\n",
    "- *Index*: a term used to sort data in order to reference to an element in a list (allows for duplicates)\n",
    "- *Elements*: the values in the list assigned to an index"
   ]
  },
  {
   "cell_type": "code",
   "execution_count": 15,
   "metadata": {},
   "outputs": [
    {
     "name": "stdout",
     "output_type": "stream",
     "text": [
      "grape\n"
     ]
    }
   ],
   "source": [
    "fruits = [\"apple\", \"grape\", \"strawberry\"]\n",
    "index = 1\n",
    "print (fruits[index])"
   ]
  },
  {
   "attachments": {},
   "cell_type": "markdown",
   "metadata": {},
   "source": [
    "#### Methods in Lists\n",
    "append() - adds elements to the end of the list\n",
    "insert() - adds element at given position\n",
    "reverse() - reverses the lsit order\n",
    "count() - returns the amount of elements with the specified value\n",
    "clear() - removes the elements from the list\n",
    "\n",
    "**Try this**\n",
    "- Determine the output of the code segment\n",
    "words <- \"old\", \"car\", \"unusual\", \"new\", \"bold\", \"far\", \"away\"\n",
    "index <- 1\n",
    "FOR EACH word IN words\n",
    "    If LEN(word) = 3\n",
    "        REMOVE(words, index)\n",
    "    ELSE\n",
    "        index <- index + 1\n",
    "Display(words)\n",
    "This will output \"unusual\", \"bold\", \"away\"\n",
    "\n",
    "### Iteration\n",
    "Iteration allows you to go back in a certain value within a list\n",
    "- it is important for time and sanity\n",
    "- formally, *Iteration* is the repetition of a process or utterance applied to the result or taken from a previous statement.\n",
    "\n",
    "#### Iteration statements\n",
    "- Else: when the condition does not meet, do statement()\n",
    "- Elif: when the condition does not meet, but meets another condition, do statement()\n",
    "- Break: stop the loop"
   ]
  },
  {
   "cell_type": "code",
   "execution_count": 16,
   "metadata": {},
   "outputs": [
    {
     "name": "stdout",
     "output_type": "stream",
     "text": [
      "bruh\n",
      "bravo romeo uniform hotel \n"
     ]
    }
   ],
   "source": [
    "# Example of Iteration\n",
    "words = [\"alfa\", \"bravo\", \"charlie\", \"delta\", \"echo\", \"foxtrot\", \"golf\", \"hotel\", \"india\", \"juliett\", \"kilo\",\n",
    "\"lima\", \"mike\", \"november\", \"oscar\", \"papa\", \"quebec\", \"romeo\", \"sierra\", \"tango\", \"uniform\", \"victor\", \"whiskey\", \"xray\", \"yankee\", \"zulu\"]\n",
    "\n",
    "inp = input().lower()\n",
    "output = \"\"\n",
    "\n",
    "for letter in inp:\n",
    "    for word in words:\n",
    "        if letter == word[0]:\n",
    "            output += word + \" \"\n",
    "\n",
    "print(inp + \"\\n\" + output)"
   ]
  },
  {
   "attachments": {},
   "cell_type": "markdown",
   "metadata": {},
   "source": [
    "# 3.9-3.11\n",
    "\n",
    "An algorithm is a process or set of rules to be followed through CODE. There are set limitations, this is what makes algorithms fun, you can use your own imagination and create whatever you want with your instructions."
   ]
  },
  {
   "cell_type": "code",
   "execution_count": 1,
   "metadata": {},
   "outputs": [
    {
     "name": "stdout",
     "output_type": "stream",
     "text": [
      "It's too hot outside!\n"
     ]
    }
   ],
   "source": [
    "# Example of an algorithm\n",
    "temp = int(input(\"Select a temperature from 0 to 99 degrees F\"))\n",
    "if (temp >= 90):\n",
    "    print(\"It's too hot outside!\")\n",
    "else:\n",
    "    if (temp >= 65):\n",
    "        print(\"Sure I will play outside!\")\n",
    "    else: \n",
    "        print(\"It is too cold outside!\")"
   ]
  },
  {
   "attachments": {},
   "cell_type": "markdown",
   "metadata": {},
   "source": [
    "#### Conditions vs Booleans\n",
    "The condition and instructions are what differ, that's where the magic happens. The condition is a boolean expression when an expression outputs either true or false. Boolean values are another type of data type in programming languages, and they can only ever hold true or false. "
   ]
  },
  {
   "cell_type": "code",
   "execution_count": 2,
   "metadata": {},
   "outputs": [
    {
     "name": "stdout",
     "output_type": "stream",
     "text": [
      "True\n"
     ]
    }
   ],
   "source": [
    "# Example of Conditionals and Booleans\n",
    "IsHoliday = False\n",
    "IsWeekday = True\n",
    "if IsHoliday:\n",
    "    driveWork = True\n",
    "else: \n",
    "    if IsWeekday: \n",
    "        driveWork = True\n",
    "    else: \n",
    "        driveWork = False\n",
    "print(driveWork)"
   ]
  },
  {
   "attachments": {},
   "cell_type": "markdown",
   "metadata": {},
   "source": [
    "Flowchart: Flowcharts can help you visualize the functionality of a program\n",
    "\n",
    "![reverser](https://github.com/mmaxwu/Tri2-GroupFastpages/blob/master/images/reverser.png?raw=true)"
   ]
  },
  {
   "attachments": {},
   "cell_type": "markdown",
   "metadata": {},
   "source": [
    "Selection: A process used in algorithms where a conditional if-statements leads to one of two outcomes"
   ]
  },
  {
   "cell_type": "code",
   "execution_count": 3,
   "metadata": {},
   "outputs": [
    {
     "name": "stdout",
     "output_type": "stream",
     "text": [
      "choose value for x\n",
      "the number is even\n"
     ]
    }
   ],
   "source": [
    "# Program that uses selection\n",
    "print(\"choose value for x\")\n",
    "\n",
    "varx=int(input(\"Enter any positive Integer\"))\n",
    "\n",
    "if (varx %2 == 0):\n",
    "    print(\"the number is even\")\n",
    "\n",
    "else:\n",
    "    print(\"the number is odd\")"
   ]
  },
  {
   "attachments": {},
   "cell_type": "markdown",
   "metadata": {},
   "source": [
    "Iteration:  \n",
    "- A process used in algorithms that allows certain things to happen until a condition is satisfied\n",
    "\n",
    "        - Once the condition is satisfied, then an outcome is produced\n",
    "\n",
    "        - This can take the form of a for-loop, while-loop, and/or if-statement"
   ]
  },
  {
   "cell_type": "code",
   "execution_count": 4,
   "metadata": {},
   "outputs": [
    {
     "name": "stdout",
     "output_type": "stream",
     "text": [
      "whatever\n",
      "whiskey hotel alfa tango echo victor echo romeo \n"
     ]
    }
   ],
   "source": [
    "# Example of Iteration\n",
    "words = [\"alfa\", \"bravo\", \"charlie\", \"delta\", \"echo\", \"foxtrot\", \"golf\", \"hotel\", \"india\", \"juliett\", \"kilo\",\n",
    "\"lima\", \"mike\", \"november\", \"oscar\", \"papa\", \"quebec\", \"romeo\", \"sierra\", \"tango\", \"uniform\", \"victor\", \"whiskey\", \"xray\", \"yankee\", \"zulu\"]\n",
    "\n",
    "inp = input().lower()\n",
    "output = \"\"\n",
    "\n",
    "for letter in inp:\n",
    "    for word in words:\n",
    "        if letter == word[0]:\n",
    "            output += word + \" \"\n",
    "\n",
    "print(inp + \"\\n\" + output)"
   ]
  },
  {
   "attachments": {},
   "cell_type": "markdown",
   "metadata": {},
   "source": [
    "What is Binary Search?\n",
    "- Binary search is a search algorithm that finds the position of a target value within a sorted array. Binary search compares the target value to the middle element of the array. \n",
    "- An algorithm for iterating to find a value inside a data set"
   ]
  },
  {
   "cell_type": "code",
   "execution_count": 5,
   "metadata": {},
   "outputs": [
    {
     "name": "stdout",
     "output_type": "stream",
     "text": [
      "Element is present at index 1\n"
     ]
    }
   ],
   "source": [
    "# Binary Search in python\n",
    "\n",
    "def BinarySearch(array, x, low, high):\n",
    "\n",
    "    # Repeat until the pointers low and high meet each other \n",
    "    while low <= high:\n",
    "\n",
    "        mid = low + (high - low)//2 # find the middle (taking the higest index number plus the lowest and divided by two)\n",
    "\n",
    "        if array[mid] == x: # if desired number is the middle is found return desired number (middle number) \n",
    "            return mid\n",
    "\n",
    "        elif array[mid] < x: \n",
    "            low = mid + 1\n",
    "\n",
    "        else:\n",
    "            high = mid - 1\n",
    "\n",
    "    return -1\n",
    "\n",
    "\n",
    "array = [3, 4, 5, 6, 7, 8, 9]\n",
    "x = 4\n",
    "\n",
    "result = BinarySearch(array, x, 0, len(array)-1)\n",
    "\n",
    "if result != -1:\n",
    "    print(\"Element is present at index \" + str(result))\n",
    "else:\n",
    "    print(\"Not found\")"
   ]
  },
  {
   "attachments": {},
   "cell_type": "markdown",
   "metadata": {},
   "source": [
    "# 3.12-3.13\n",
    "\n",
    "- A procedure is a named group of programming instructions that may have parameters and return values.\n",
    "- Parameters are input values of a procedure. Arguments specify the values of the parameters when procedure is called."
   ]
  },
  {
   "cell_type": "code",
   "execution_count": 6,
   "metadata": {},
   "outputs": [
    {
     "name": "stdout",
     "output_type": "stream",
     "text": [
      "choose value for x\n",
      "the number is even\n"
     ]
    }
   ],
   "source": [
    "# Procedures\n",
    "print(\"choose value for x\")\n",
    "\n",
    "varx=int(input(\"Enter any positive Integer\"))\n",
    "\n",
    "if (varx %2 == 0):\n",
    "    print(\"the number is even\")\n",
    "\n",
    "else:\n",
    "    print(\"the number is odd\")"
   ]
  },
  {
   "attachments": {},
   "cell_type": "markdown",
   "metadata": {},
   "source": [
    "- One type of abstraction is procedural abstraction which provides a name for a process and allows a procedure to be used only knowing what it does and not how it does it\n",
    "    - manages complexity in a program\n",
    "- Simply, procedural abstraction is naming and calling a prewritten procedure"
   ]
  },
  {
   "cell_type": "code",
   "execution_count": 7,
   "metadata": {},
   "outputs": [
    {
     "name": "stdout",
     "output_type": "stream",
     "text": [
      "92\n",
      "A\n"
     ]
    }
   ],
   "source": [
    "def letterGradeCalculator(percent):\n",
    "    if (percent < 60):\n",
    "        return \"F\"\n",
    "    elif (percent >= 60) and (percent < 70):\n",
    "        return \"D\"\n",
    "    elif (percent >= 70) and (percent < 80):\n",
    "        return \"C\"\n",
    "    elif (percent >= 80) and (percent < 90):\n",
    "        return \"B\"\n",
    "    elif (percent >= 90) and (percent < 100):\n",
    "        return \"A\"\n",
    "    else:\n",
    "        return \"A+\"\n",
    "\n",
    "percent = int(input(\"What is your percent grade?\"))\n",
    "print(percent)\n",
    "print(letterGradeCalculator(percent))"
   ]
  },
  {
   "attachments": {},
   "cell_type": "markdown",
   "metadata": {},
   "source": [
    "- Subdivision of a program into separate subprograms is called modularity\n",
    "\n",
    "|Code Segment 1|Code Segment 2|\n",
    "|--------------|--------------|\n",
    "|ROTATE_LEFT()|detourLeft()|\n",
    "MOVE_FORWARD()|turnCorner()| \n",
    "ROTATE_RIGHT  |MOVE_FORWARD()| \n",
    "MOVE_FORWARD()|MOVE_FORWARD()|\n",
    "MOVE_FORWARD()\n",
    "ROTATE_RIGHT()\n",
    "MOVE_FORWARD()\n",
    "ROTATE_LEFT()\n",
    "MOVE_FORWARD()\n",
    "ROTATE_LEFT()\n",
    "MOVE_FORWARD()\n",
    "MOVE_FORWARD\n",
    "MOVE_FORWARD()"
   ]
  },
  {
   "attachments": {},
   "cell_type": "markdown",
   "metadata": {},
   "source": [
    "# 3.14-3.15 Libraries and Random Values\n",
    "\n",
    "* A library is a collection of precompiled codes that can be used later on in a program for some specific well-defined operations. \n",
    "* These precompiled codes can be referred to as modules. Each module contains bundles of code that can be used repeatedly in different programs.\n",
    "* A library may also contain documentation, configuration data, message templates, classes, and values, etc."
   ]
  },
  {
   "cell_type": "code",
   "execution_count": 8,
   "metadata": {},
   "outputs": [
    {
     "name": "stdout",
     "output_type": "stream",
     "text": [
      "[[1 2 3]\n",
      " [4 5 6]\n",
      " [7 8 9]]\n"
     ]
    }
   ],
   "source": [
    "# USe of Libraries and Numpy\n",
    "import numpy as np\n",
    "new_matrix = np.array([[1, 2, 3],[4, 5, 6],[7, 8, 9]])\n",
    "\n",
    "print (new_matrix)"
   ]
  },
  {
   "attachments": {},
   "cell_type": "markdown",
   "metadata": {},
   "source": [
    "* **Pillow** allows you to work with images.\n",
    "* **Tensor Flow** helps with data automation and monitors performance.\n",
    "* **Matplotlib** allows you to make 2D graphs and plots.\n",
    "\n",
    "![Screenshot 2022-12-11 221853](https://user-images.githubusercontent.com/51098969/206974627-af98327c-d95d-4459-be67-cbaa3faaaa98.jpg)"
   ]
  },
  {
   "attachments": {},
   "cell_type": "markdown",
   "metadata": {},
   "source": [
    "* An Application Program Interface, or API, contains specific direction for how the procedures in a library behave and can be used. \n",
    "* An API acts as a gateway for the imported procedures from a library to interact with the rest of your code."
   ]
  },
  {
   "attachments": {},
   "cell_type": "markdown",
   "metadata": {},
   "source": [
    "![CollegeBoard](https://i.ibb.co/Wt90Hbz/Screen-Shot-2022-12-12-at-7-27-58-AM.png)"
   ]
  },
  {
   "attachments": {},
   "cell_type": "markdown",
   "metadata": {},
   "source": [
    "* Random number generation (RNG) produces a random number (crazy right?)\n",
    "    - This means that a procedure with RNG can return different values even if the parameters (inputs) do not change"
   ]
  },
  {
   "cell_type": "code",
   "execution_count": 9,
   "metadata": {},
   "outputs": [
    {
     "name": "stdout",
     "output_type": "stream",
     "text": [
      "6\n"
     ]
    }
   ],
   "source": [
    "import random \n",
    "\n",
    "n = 1\n",
    "sum = 0\n",
    "while n > 0:\n",
    "    sum = sum + random.randint(1 , 6)\n",
    "    n = n - 1\n",
    "    break\n",
    "n = 0\n",
    "    \n",
    "print(sum) "
   ]
  },
  {
   "attachments": {},
   "cell_type": "markdown",
   "metadata": {},
   "source": [
    "# 3.17-3.18 Undecidable Problems\n",
    "Algorithmic Efficiency - the ability of an algorithm to solve a problem in an efficient way\n",
    "\n",
    "Decision Problem - a problem in computer science and mathematics that can be solved by a yes-no answer, also known as a binary answer.\n",
    "\n",
    "Decidable Problem - a problem in computer science and mathematics for which an algorithm can be created that can always produce a correct answer or solution.\n",
    "\n",
    "Undecidable Problem - a problem in computer science and mathematics for which it is impossible to create an algorithm that can always provide a correct answer or solution."
   ]
  },
  {
   "cell_type": "code",
   "execution_count": 1,
   "metadata": {},
   "outputs": [
    {
     "name": "stdout",
     "output_type": "stream",
     "text": [
      "True\n",
      "False\n"
     ]
    }
   ],
   "source": [
    "# Example of a Decidable Problem\n",
    "\n",
    "def divideThirteen(number):\n",
    "    if number % 13 == 0:\n",
    "        return True\n",
    "    else:\n",
    "        return False\n",
    "\n",
    "print(divideThirteen(26))\n",
    "print(divideThirteen(30))"
   ]
  },
  {
   "cell_type": "code",
   "execution_count": null,
   "metadata": {},
   "outputs": [],
   "source": [
    "# An Example of an Undecidable Problem\n",
    "\n",
    "i = 0\n",
    "number = 1\n",
    "def integerTest(n):\n",
    "    # Testing if the number is an integer\n",
    "    if n%1 ==0:\n",
    "        return True\n",
    "    else:\n",
    "        return False\n",
    "# Using while loop to keep searching an a non-integer above 1. Note that the computer runs forever.\n",
    "while i == 0:\n",
    "    number += 1\n",
    "    if integerTest(number) == False:\n",
    "        i +=1\n",
    "        print(\"Done\")"
   ]
  }
 ],
 "metadata": {
  "kernelspec": {
   "display_name": "base",
   "language": "python",
   "name": "python3"
  },
  "language_info": {
   "codemirror_mode": {
    "name": "ipython",
    "version": 3
   },
   "file_extension": ".py",
   "mimetype": "text/x-python",
   "name": "python",
   "nbconvert_exporter": "python",
   "pygments_lexer": "ipython3",
   "version": "3.9.12 (main, Apr  5 2022, 06:56:58) \n[GCC 7.5.0]"
  },
  "orig_nbformat": 4,
  "vscode": {
   "interpreter": {
    "hash": "5764dbad4b00016f04518406a44c7dd30456cf9a6c51aaefb7325959b77738be"
   }
  }
 },
 "nbformat": 4,
 "nbformat_minor": 2
}

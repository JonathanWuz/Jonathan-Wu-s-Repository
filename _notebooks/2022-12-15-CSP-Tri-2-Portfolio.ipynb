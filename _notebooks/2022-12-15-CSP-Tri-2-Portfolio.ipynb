{
 "cells": [
  {
   "attachments": {},
   "cell_type": "markdown",
   "metadata": {},
   "source": [
    "# \"AP CSP Tri 2 Portfolio\"\n",
    "> \"AP Exam Content and Vocab\"\n",
    " \n",
    "- toc: true\n",
    "- branch: master\n",
    "- badges: true\n",
    "- comments: true\n",
    "- permalink: /jupyter/libraries\n",
    "- categories: [jupyter,markdown]"
   ]
  },
  {
   "attachments": {},
   "cell_type": "markdown",
   "metadata": {},
   "source": [
    "## 3.1-3.2 Variables, Assignments, and Data Abstractions\n"
   ]
  },
  {
   "attachments": {},
   "cell_type": "markdown",
   "metadata": {},
   "source": [
    "## 3.3-3.4 Mathematical Expressions and Strings\n",
    "An algorithm: a set of instructions that can accomplish a specific task\n",
    "1. Sequencing: Algorithms do taks in the order of specification\n",
    "2. Selection: Helps choose two different outcomes based off a decision\n",
    "3. Iteration: If a conditions is true, then the code can repeat\n",
    "\n",
    "*Flowcharts*: The use shapes and arrows to represent the steps of an algorithm\n",
    "\n",
    "### Basic Operations\n",
    "Subtraction:\n",
    "- represented by \"-\"\n",
    "\n",
    "Addition:\n",
    "- represented by \"+\"\n",
    "\n",
    "Multiplication\n",
    "- represented by \"*\"\n",
    "\n",
    "Division\n",
    "- represented by \"/\"\n",
    "\n",
    "Getting the Remainder\n",
    "represented by \"MOD\" (% in python)"
   ]
  }
 ],
 "metadata": {
  "kernelspec": {
   "display_name": "base",
   "language": "python",
   "name": "python3"
  },
  "language_info": {
   "name": "python",
   "version": "3.9.12 (main, Apr  5 2022, 06:56:58) \n[GCC 7.5.0]"
  },
  "orig_nbformat": 4,
  "vscode": {
   "interpreter": {
    "hash": "5764dbad4b00016f04518406a44c7dd30456cf9a6c51aaefb7325959b77738be"
   }
  }
 },
 "nbformat": 4,
 "nbformat_minor": 2
}
